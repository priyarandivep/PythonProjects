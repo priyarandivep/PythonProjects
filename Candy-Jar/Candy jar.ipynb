{
 "cells": [
  {
   "cell_type": "code",
   "execution_count": 1,
   "id": "2a308e83",
   "metadata": {},
   "outputs": [
    {
     "name": "stdout",
     "output_type": "stream",
     "text": [
      "CANDY JAR\n",
      "-------------------\n",
      "Available Candies 1000\n",
      "**********************************\n",
      "Enter a number of candies you need\n",
      "enter a number500\n",
      " \n",
      "Enjoy your Sweets, Visit Again!!\n",
      "-------------------------------------\n",
      "Available candies 500\n",
      "**********************************\n",
      "Enter a number of candies you need\n",
      "enter a number500\n",
      " \n",
      "Enjoy your Sweets, Visit Again!!\n",
      "-------------------------------------\n",
      "Available candies 0\n",
      "**********************************\n",
      "Enter a number of candies you need\n",
      "enter a number1\n",
      "----------------------------------\n",
      "Currently candies are not available\n",
      "************************************\n"
     ]
    }
   ],
   "source": [
    "print(\"CANDY JAR\")\n",
    "print('-------------------')\n",
    "candy= 1000\n",
    "print('Available Candies', candy)\n",
    "while True:\n",
    "    print('**********************************')\n",
    "    print('Enter a number of candies you need')\n",
    "  \n",
    "    n= int(input('enter a number'))\n",
    "    if n<=candy:\n",
    "        if n>0:\n",
    "            candy= candy-n\n",
    "            print(' ')\n",
    "            print('Enjoy your Sweets, Visit Again!!')\n",
    "            print('-------------------------------------')\n",
    "            print('Available candies', candy)\n",
    "        \n",
    "        else:\n",
    "            print('----------------------------------------')\n",
    "            print('enter number of candies greater than 0')\n",
    "    elif candy ==0:\n",
    "        print('----------------------------------')\n",
    "        print('Currently candies are not available')\n",
    "        print('************************************')\n",
    "        break\n",
    "    elif n>candy:\n",
    "        print('---------------------------------')\n",
    "        print('Exceeding the available candy count')\n",
    "    else:\n",
    "        print('----------------------------------')\n",
    "        print('Currently candies are not available')\n",
    "        print('************************************')\n",
    "        "
   ]
  },
  {
   "cell_type": "code",
   "execution_count": null,
   "id": "60b12994",
   "metadata": {},
   "outputs": [],
   "source": []
  }
 ],
 "metadata": {
  "kernelspec": {
   "display_name": "Python 3 (ipykernel)",
   "language": "python",
   "name": "python3"
  },
  "language_info": {
   "codemirror_mode": {
    "name": "ipython",
    "version": 3
   },
   "file_extension": ".py",
   "mimetype": "text/x-python",
   "name": "python",
   "nbconvert_exporter": "python",
   "pygments_lexer": "ipython3",
   "version": "3.9.12"
  }
 },
 "nbformat": 4,
 "nbformat_minor": 5
}
