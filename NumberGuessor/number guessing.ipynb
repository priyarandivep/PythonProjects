{
 "cells": [
  {
   "cell_type": "code",
   "execution_count": null,
   "id": "b863b95e",
   "metadata": {},
   "outputs": [
    {
     "name": "stdout",
     "output_type": "stream",
     "text": [
      "I am thinking of a number between 1 and 10. you have 5 chance to guess it\n",
      "Enter your Guess: 4\n",
      "The number too low, you have 4 chance left\n",
      "Enter your Guess: 1\n",
      "The number too low, you have 3 chance left\n",
      "Enter your Guess: 6\n",
      "The number too low, you have 2 chance left\n",
      "Enter your Guess: 8\n",
      "The number too high, you have 1 chance left\n",
      "Enter your Guess: 7\n",
      "Congratulations! You gussed the number correctly.\n",
      "Do you want to play again?y\n",
      "I am thinking of a number between 1 and 10. you have 5 chance to guess it\n",
      "Enter your Guess: 5\n",
      "The number too low, you have 4 chance left\n",
      "Enter your Guess: 6\n",
      "Congratulations! You gussed the number correctly.\n"
     ]
    }
   ],
   "source": [
    "import random\n",
    "def guess_number():\n",
    "    chance= 5\n",
    "    cnumber= random.randrange(1,10)\n",
    "    print('I am thinking of a number between 1 and 10. you have 5 chance to guess it')\n",
    "    \n",
    "    while chance>= 1:\n",
    "        userinput= int(input('Enter your Guess: '))\n",
    "        chance-=1\n",
    "        if userinput>cnumber:\n",
    "           \n",
    "            print('The number too high, you have', chance, \"chance left\")\n",
    "        elif cnumber>userinput:\n",
    "            \n",
    "            print(\"The number too low, you have\", chance, \"chance left\")\n",
    "        else:\n",
    "            \n",
    "            print('Congratulations! You gussed the number correctly.')\n",
    "            return True\n",
    "    print(\"Bad Luck! you couldn't guess the number within 5 chance\")\n",
    "    return False\n",
    "\n",
    "\n",
    "play_again= True\n",
    "\n",
    "while play_again:\n",
    "    guess_number()\n",
    "    choice= input('Do you want to play again?')\n",
    "    if choice.lower() != \"y\":\n",
    "       play_again = False\n",
    "        \n",
    "print(\"Thanks for playing\")\n",
    "    \n",
    "\n"
   ]
  },
  {
   "cell_type": "code",
   "execution_count": null,
   "id": "149cd63d",
   "metadata": {},
   "outputs": [],
   "source": []
  }
 ],
 "metadata": {
  "kernelspec": {
   "display_name": "Python 3 (ipykernel)",
   "language": "python",
   "name": "python3"
  },
  "language_info": {
   "codemirror_mode": {
    "name": "ipython",
    "version": 3
   },
   "file_extension": ".py",
   "mimetype": "text/x-python",
   "name": "python",
   "nbconvert_exporter": "python",
   "pygments_lexer": "ipython3",
   "version": "3.9.12"
  }
 },
 "nbformat": 4,
 "nbformat_minor": 5
}
